{
  "nbformat": 4,
  "nbformat_minor": 0,
  "metadata": {
    "colab": {
      "provenance": []
    },
    "kernelspec": {
      "name": "python3",
      "display_name": "Python 3"
    },
    "language_info": {
      "name": "python"
    }
  },
  "cells": [
    {
      "cell_type": "markdown",
      "source": [
        "# Proyek Analisis Data: Bike Sharing Dataset\n",
        "- Nama: Annisa Hukmu Akmalany\n",
        "- Email: annisahukmu31@gmail.com\n",
        "- Id Dicoding: aakmalany"
      ],
      "metadata": {
        "id": "cP5zh7Ww85Fm"
      }
    },
    {
      "cell_type": "code",
      "source": [
        "nama = \"Annisa Hukmu Akmalany\"\n",
        "print(\"Nama:\", nama)\n",
        "email = \"annisahukmu31@gmail.com\"\n",
        "print(\"Email:\", email)\n",
        "id_dicoding = \"aakmalany\"\n",
        "print(\"ID:\", id_dicoding)"
      ],
      "metadata": {
        "id": "pmkqySSxFvvh",
        "colab": {
          "base_uri": "https://localhost:8080/"
        },
        "outputId": "86b13fcd-dce0-4abc-a8b3-964826de8e0a"
      },
      "execution_count": null,
      "outputs": [
        {
          "output_type": "stream",
          "name": "stdout",
          "text": [
            "Nama: Annisa Hukmu Akmalany\n",
            "Email: annisahukmu31@gmail.com\n",
            "ID: aakmalany\n"
          ]
        }
      ]
    },
    {
      "cell_type": "markdown",
      "source": [
        "## Menentukan Pertanyaan Bisnis"
      ],
      "metadata": {
        "id": "ggwOFmpI88dG"
      }
    },
    {
      "cell_type": "markdown",
      "source": [
        "- pertanyaan 1: Apakah cuaca mempengaruhi peminjaman sepeda?\n",
        "- pertanyaan 2: Apakah jenis hari (hari libur, hari kerja, dan hari biasa) mempengaruhi peminjaman sepeda?"
      ],
      "metadata": {
        "id": "6irqmTtg8-IC"
      }
    },
    {
      "cell_type": "markdown",
      "source": [
        "## Menyiapkan semua library yang dibuthkan"
      ],
      "metadata": {
        "id": "EueHsNk89AsY"
      }
    },
    {
      "cell_type": "code",
      "execution_count": null,
      "metadata": {
        "id": "4cmWv4qc8xWu"
      },
      "outputs": [],
      "source": [
        "import numpy as np\n",
        "import pandas as pd\n",
        "import seaborn as sns\n",
        "import matplotlib.pyplot as plt"
      ]
    },
    {
      "cell_type": "markdown",
      "source": [
        "## Data Wrangling"
      ],
      "metadata": {
        "id": "7DwSpkkZ9BqV"
      }
    },
    {
      "cell_type": "markdown",
      "source": [
        "### Gathering Data"
      ],
      "metadata": {
        "id": "ZuJuLGxe9D9O"
      }
    },
    {
      "cell_type": "code",
      "source": [
        "hour= pd.read_csv(\"/content/hour.csv\")\n",
        "hour.head()"
      ],
      "metadata": {
        "colab": {
          "base_uri": "https://localhost:8080/",
          "height": 338
        },
        "id": "vq5b5NWXQhTQ",
        "outputId": "5efaa595-e8e2-4712-813b-c7f5c1048700"
      },
      "execution_count": null,
      "outputs": [
        {
          "output_type": "error",
          "ename": "FileNotFoundError",
          "evalue": "ignored",
          "traceback": [
            "\u001b[0;31m---------------------------------------------------------------------------\u001b[0m",
            "\u001b[0;31mFileNotFoundError\u001b[0m                         Traceback (most recent call last)",
            "\u001b[0;32m<ipython-input-3-91b1605c992e>\u001b[0m in \u001b[0;36m<cell line: 1>\u001b[0;34m()\u001b[0m\n\u001b[0;32m----> 1\u001b[0;31m \u001b[0mhour\u001b[0m\u001b[0;34m=\u001b[0m \u001b[0mpd\u001b[0m\u001b[0;34m.\u001b[0m\u001b[0mread_csv\u001b[0m\u001b[0;34m(\u001b[0m\u001b[0;34m\"/content/hour.csv\"\u001b[0m\u001b[0;34m)\u001b[0m\u001b[0;34m\u001b[0m\u001b[0;34m\u001b[0m\u001b[0m\n\u001b[0m\u001b[1;32m      2\u001b[0m \u001b[0mhour\u001b[0m\u001b[0;34m.\u001b[0m\u001b[0mhead\u001b[0m\u001b[0;34m(\u001b[0m\u001b[0;34m)\u001b[0m\u001b[0;34m\u001b[0m\u001b[0;34m\u001b[0m\u001b[0m\n",
            "\u001b[0;32m/usr/local/lib/python3.10/dist-packages/pandas/util/_decorators.py\u001b[0m in \u001b[0;36mwrapper\u001b[0;34m(*args, **kwargs)\u001b[0m\n\u001b[1;32m    209\u001b[0m                 \u001b[0;32melse\u001b[0m\u001b[0;34m:\u001b[0m\u001b[0;34m\u001b[0m\u001b[0;34m\u001b[0m\u001b[0m\n\u001b[1;32m    210\u001b[0m                     \u001b[0mkwargs\u001b[0m\u001b[0;34m[\u001b[0m\u001b[0mnew_arg_name\u001b[0m\u001b[0;34m]\u001b[0m \u001b[0;34m=\u001b[0m \u001b[0mnew_arg_value\u001b[0m\u001b[0;34m\u001b[0m\u001b[0;34m\u001b[0m\u001b[0m\n\u001b[0;32m--> 211\u001b[0;31m             \u001b[0;32mreturn\u001b[0m \u001b[0mfunc\u001b[0m\u001b[0;34m(\u001b[0m\u001b[0;34m*\u001b[0m\u001b[0margs\u001b[0m\u001b[0;34m,\u001b[0m \u001b[0;34m**\u001b[0m\u001b[0mkwargs\u001b[0m\u001b[0;34m)\u001b[0m\u001b[0;34m\u001b[0m\u001b[0;34m\u001b[0m\u001b[0m\n\u001b[0m\u001b[1;32m    212\u001b[0m \u001b[0;34m\u001b[0m\u001b[0m\n\u001b[1;32m    213\u001b[0m         \u001b[0;32mreturn\u001b[0m \u001b[0mcast\u001b[0m\u001b[0;34m(\u001b[0m\u001b[0mF\u001b[0m\u001b[0;34m,\u001b[0m \u001b[0mwrapper\u001b[0m\u001b[0;34m)\u001b[0m\u001b[0;34m\u001b[0m\u001b[0;34m\u001b[0m\u001b[0m\n",
            "\u001b[0;32m/usr/local/lib/python3.10/dist-packages/pandas/util/_decorators.py\u001b[0m in \u001b[0;36mwrapper\u001b[0;34m(*args, **kwargs)\u001b[0m\n\u001b[1;32m    329\u001b[0m                     \u001b[0mstacklevel\u001b[0m\u001b[0;34m=\u001b[0m\u001b[0mfind_stack_level\u001b[0m\u001b[0;34m(\u001b[0m\u001b[0;34m)\u001b[0m\u001b[0;34m,\u001b[0m\u001b[0;34m\u001b[0m\u001b[0;34m\u001b[0m\u001b[0m\n\u001b[1;32m    330\u001b[0m                 )\n\u001b[0;32m--> 331\u001b[0;31m             \u001b[0;32mreturn\u001b[0m \u001b[0mfunc\u001b[0m\u001b[0;34m(\u001b[0m\u001b[0;34m*\u001b[0m\u001b[0margs\u001b[0m\u001b[0;34m,\u001b[0m \u001b[0;34m**\u001b[0m\u001b[0mkwargs\u001b[0m\u001b[0;34m)\u001b[0m\u001b[0;34m\u001b[0m\u001b[0;34m\u001b[0m\u001b[0m\n\u001b[0m\u001b[1;32m    332\u001b[0m \u001b[0;34m\u001b[0m\u001b[0m\n\u001b[1;32m    333\u001b[0m         \u001b[0;31m# error: \"Callable[[VarArg(Any), KwArg(Any)], Any]\" has no\u001b[0m\u001b[0;34m\u001b[0m\u001b[0;34m\u001b[0m\u001b[0m\n",
            "\u001b[0;32m/usr/local/lib/python3.10/dist-packages/pandas/io/parsers/readers.py\u001b[0m in \u001b[0;36mread_csv\u001b[0;34m(filepath_or_buffer, sep, delimiter, header, names, index_col, usecols, squeeze, prefix, mangle_dupe_cols, dtype, engine, converters, true_values, false_values, skipinitialspace, skiprows, skipfooter, nrows, na_values, keep_default_na, na_filter, verbose, skip_blank_lines, parse_dates, infer_datetime_format, keep_date_col, date_parser, dayfirst, cache_dates, iterator, chunksize, compression, thousands, decimal, lineterminator, quotechar, quoting, doublequote, escapechar, comment, encoding, encoding_errors, dialect, error_bad_lines, warn_bad_lines, on_bad_lines, delim_whitespace, low_memory, memory_map, float_precision, storage_options)\u001b[0m\n\u001b[1;32m    948\u001b[0m     \u001b[0mkwds\u001b[0m\u001b[0;34m.\u001b[0m\u001b[0mupdate\u001b[0m\u001b[0;34m(\u001b[0m\u001b[0mkwds_defaults\u001b[0m\u001b[0;34m)\u001b[0m\u001b[0;34m\u001b[0m\u001b[0;34m\u001b[0m\u001b[0m\n\u001b[1;32m    949\u001b[0m \u001b[0;34m\u001b[0m\u001b[0m\n\u001b[0;32m--> 950\u001b[0;31m     \u001b[0;32mreturn\u001b[0m \u001b[0m_read\u001b[0m\u001b[0;34m(\u001b[0m\u001b[0mfilepath_or_buffer\u001b[0m\u001b[0;34m,\u001b[0m \u001b[0mkwds\u001b[0m\u001b[0;34m)\u001b[0m\u001b[0;34m\u001b[0m\u001b[0;34m\u001b[0m\u001b[0m\n\u001b[0m\u001b[1;32m    951\u001b[0m \u001b[0;34m\u001b[0m\u001b[0m\n\u001b[1;32m    952\u001b[0m \u001b[0;34m\u001b[0m\u001b[0m\n",
            "\u001b[0;32m/usr/local/lib/python3.10/dist-packages/pandas/io/parsers/readers.py\u001b[0m in \u001b[0;36m_read\u001b[0;34m(filepath_or_buffer, kwds)\u001b[0m\n\u001b[1;32m    603\u001b[0m \u001b[0;34m\u001b[0m\u001b[0m\n\u001b[1;32m    604\u001b[0m     \u001b[0;31m# Create the parser.\u001b[0m\u001b[0;34m\u001b[0m\u001b[0;34m\u001b[0m\u001b[0m\n\u001b[0;32m--> 605\u001b[0;31m     \u001b[0mparser\u001b[0m \u001b[0;34m=\u001b[0m \u001b[0mTextFileReader\u001b[0m\u001b[0;34m(\u001b[0m\u001b[0mfilepath_or_buffer\u001b[0m\u001b[0;34m,\u001b[0m \u001b[0;34m**\u001b[0m\u001b[0mkwds\u001b[0m\u001b[0;34m)\u001b[0m\u001b[0;34m\u001b[0m\u001b[0;34m\u001b[0m\u001b[0m\n\u001b[0m\u001b[1;32m    606\u001b[0m \u001b[0;34m\u001b[0m\u001b[0m\n\u001b[1;32m    607\u001b[0m     \u001b[0;32mif\u001b[0m \u001b[0mchunksize\u001b[0m \u001b[0;32mor\u001b[0m \u001b[0miterator\u001b[0m\u001b[0;34m:\u001b[0m\u001b[0;34m\u001b[0m\u001b[0;34m\u001b[0m\u001b[0m\n",
            "\u001b[0;32m/usr/local/lib/python3.10/dist-packages/pandas/io/parsers/readers.py\u001b[0m in \u001b[0;36m__init__\u001b[0;34m(self, f, engine, **kwds)\u001b[0m\n\u001b[1;32m   1440\u001b[0m \u001b[0;34m\u001b[0m\u001b[0m\n\u001b[1;32m   1441\u001b[0m         \u001b[0mself\u001b[0m\u001b[0;34m.\u001b[0m\u001b[0mhandles\u001b[0m\u001b[0;34m:\u001b[0m \u001b[0mIOHandles\u001b[0m \u001b[0;34m|\u001b[0m \u001b[0;32mNone\u001b[0m \u001b[0;34m=\u001b[0m \u001b[0;32mNone\u001b[0m\u001b[0;34m\u001b[0m\u001b[0;34m\u001b[0m\u001b[0m\n\u001b[0;32m-> 1442\u001b[0;31m         \u001b[0mself\u001b[0m\u001b[0;34m.\u001b[0m\u001b[0m_engine\u001b[0m \u001b[0;34m=\u001b[0m \u001b[0mself\u001b[0m\u001b[0;34m.\u001b[0m\u001b[0m_make_engine\u001b[0m\u001b[0;34m(\u001b[0m\u001b[0mf\u001b[0m\u001b[0;34m,\u001b[0m \u001b[0mself\u001b[0m\u001b[0;34m.\u001b[0m\u001b[0mengine\u001b[0m\u001b[0;34m)\u001b[0m\u001b[0;34m\u001b[0m\u001b[0;34m\u001b[0m\u001b[0m\n\u001b[0m\u001b[1;32m   1443\u001b[0m \u001b[0;34m\u001b[0m\u001b[0m\n\u001b[1;32m   1444\u001b[0m     \u001b[0;32mdef\u001b[0m \u001b[0mclose\u001b[0m\u001b[0;34m(\u001b[0m\u001b[0mself\u001b[0m\u001b[0;34m)\u001b[0m \u001b[0;34m->\u001b[0m \u001b[0;32mNone\u001b[0m\u001b[0;34m:\u001b[0m\u001b[0;34m\u001b[0m\u001b[0;34m\u001b[0m\u001b[0m\n",
            "\u001b[0;32m/usr/local/lib/python3.10/dist-packages/pandas/io/parsers/readers.py\u001b[0m in \u001b[0;36m_make_engine\u001b[0;34m(self, f, engine)\u001b[0m\n\u001b[1;32m   1733\u001b[0m                 \u001b[0;32mif\u001b[0m \u001b[0;34m\"b\"\u001b[0m \u001b[0;32mnot\u001b[0m \u001b[0;32min\u001b[0m \u001b[0mmode\u001b[0m\u001b[0;34m:\u001b[0m\u001b[0;34m\u001b[0m\u001b[0;34m\u001b[0m\u001b[0m\n\u001b[1;32m   1734\u001b[0m                     \u001b[0mmode\u001b[0m \u001b[0;34m+=\u001b[0m \u001b[0;34m\"b\"\u001b[0m\u001b[0;34m\u001b[0m\u001b[0;34m\u001b[0m\u001b[0m\n\u001b[0;32m-> 1735\u001b[0;31m             self.handles = get_handle(\n\u001b[0m\u001b[1;32m   1736\u001b[0m                 \u001b[0mf\u001b[0m\u001b[0;34m,\u001b[0m\u001b[0;34m\u001b[0m\u001b[0;34m\u001b[0m\u001b[0m\n\u001b[1;32m   1737\u001b[0m                 \u001b[0mmode\u001b[0m\u001b[0;34m,\u001b[0m\u001b[0;34m\u001b[0m\u001b[0;34m\u001b[0m\u001b[0m\n",
            "\u001b[0;32m/usr/local/lib/python3.10/dist-packages/pandas/io/common.py\u001b[0m in \u001b[0;36mget_handle\u001b[0;34m(path_or_buf, mode, encoding, compression, memory_map, is_text, errors, storage_options)\u001b[0m\n\u001b[1;32m    854\u001b[0m         \u001b[0;32mif\u001b[0m \u001b[0mioargs\u001b[0m\u001b[0;34m.\u001b[0m\u001b[0mencoding\u001b[0m \u001b[0;32mand\u001b[0m \u001b[0;34m\"b\"\u001b[0m \u001b[0;32mnot\u001b[0m \u001b[0;32min\u001b[0m \u001b[0mioargs\u001b[0m\u001b[0;34m.\u001b[0m\u001b[0mmode\u001b[0m\u001b[0;34m:\u001b[0m\u001b[0;34m\u001b[0m\u001b[0;34m\u001b[0m\u001b[0m\n\u001b[1;32m    855\u001b[0m             \u001b[0;31m# Encoding\u001b[0m\u001b[0;34m\u001b[0m\u001b[0;34m\u001b[0m\u001b[0m\n\u001b[0;32m--> 856\u001b[0;31m             handle = open(\n\u001b[0m\u001b[1;32m    857\u001b[0m                 \u001b[0mhandle\u001b[0m\u001b[0;34m,\u001b[0m\u001b[0;34m\u001b[0m\u001b[0;34m\u001b[0m\u001b[0m\n\u001b[1;32m    858\u001b[0m                 \u001b[0mioargs\u001b[0m\u001b[0;34m.\u001b[0m\u001b[0mmode\u001b[0m\u001b[0;34m,\u001b[0m\u001b[0;34m\u001b[0m\u001b[0;34m\u001b[0m\u001b[0m\n",
            "\u001b[0;31mFileNotFoundError\u001b[0m: [Errno 2] No such file or directory: '/content/hour.csv'"
          ]
        }
      ]
    },
    {
      "cell_type": "code",
      "source": [
        "day= pd.read_csv(\"/content/day.csv\")\n",
        "day.head()"
      ],
      "metadata": {
        "id": "SMOVDU_ANUDf"
      },
      "execution_count": null,
      "outputs": []
    },
    {
      "cell_type": "markdown",
      "source": [
        "### Assessing Data"
      ],
      "metadata": {
        "id": "BvZAfrSH9F2U"
      }
    },
    {
      "cell_type": "code",
      "source": [
        "day.info()"
      ],
      "metadata": {
        "id": "Rg3wtvOr9DUm"
      },
      "execution_count": null,
      "outputs": []
    },
    {
      "cell_type": "code",
      "source": [
        "day.describe"
      ],
      "metadata": {
        "id": "xTeyzDeFSnJV"
      },
      "execution_count": null,
      "outputs": []
    },
    {
      "cell_type": "code",
      "source": [
        "print(\"Jumlah duplikasi: \",day.duplicated().sum())\n",
        "day.describe()"
      ],
      "metadata": {
        "id": "zLzqBAiYTSB4"
      },
      "execution_count": null,
      "outputs": []
    },
    {
      "cell_type": "code",
      "source": [
        "hour.info()"
      ],
      "metadata": {
        "id": "psHLyk9ES4yB"
      },
      "execution_count": null,
      "outputs": []
    },
    {
      "cell_type": "code",
      "source": [
        "hour.describe"
      ],
      "metadata": {
        "id": "urHqR4jTTCzT"
      },
      "execution_count": null,
      "outputs": []
    },
    {
      "cell_type": "code",
      "source": [
        "print(\"Jumlah duplikasi: \",hour.duplicated().sum())\n",
        "hour.describe()"
      ],
      "metadata": {
        "id": "wUbkIh6FTKzb"
      },
      "execution_count": null,
      "outputs": []
    },
    {
      "cell_type": "markdown",
      "source": [
        "### Cleaning Data"
      ],
      "metadata": {
        "id": "Uz5dgcJm9HW5"
      }
    },
    {
      "cell_type": "code",
      "source": [
        "datetime_columns = [\"dteday\"]\n",
        "\n",
        "for column in datetime_columns:\n",
        "  day[column] = pd.to_datetime(day[column])"
      ],
      "metadata": {
        "id": "CCszTdXD9Ivf"
      },
      "execution_count": null,
      "outputs": []
    },
    {
      "cell_type": "code",
      "source": [
        "day.info()"
      ],
      "metadata": {
        "id": "hJZuq7ghUGcf"
      },
      "execution_count": null,
      "outputs": []
    },
    {
      "cell_type": "code",
      "source": [
        "datetime_columns = [\"dteday\"]\n",
        "\n",
        "for column in datetime_columns:\n",
        "  hour[column] = pd.to_datetime(hour[column])"
      ],
      "metadata": {
        "id": "UCTOqfMzW9UI"
      },
      "execution_count": null,
      "outputs": []
    },
    {
      "cell_type": "code",
      "source": [
        "hour.info()"
      ],
      "metadata": {
        "id": "yxlBkhLMXAZF"
      },
      "execution_count": null,
      "outputs": []
    },
    {
      "cell_type": "markdown",
      "source": [
        "## Exploratory Data Analysis (EDA)"
      ],
      "metadata": {
        "id": "EyPJaCDm9KFb"
      }
    },
    {
      "cell_type": "markdown",
      "source": [
        "### Explore Pertanyaan 1"
      ],
      "metadata": {
        "id": "hxgJ6qd69Mce"
      }
    },
    {
      "cell_type": "code",
      "source": [
        "day.describe(include=\"all\")"
      ],
      "metadata": {
        "id": "Xo68yguo9LTl"
      },
      "execution_count": null,
      "outputs": []
    },
    {
      "cell_type": "code",
      "source": [
        "mean_by_weather = day.groupby('weathersit')['cnt'].mean()\n",
        "print(mean_by_weather)"
      ],
      "metadata": {
        "id": "FR49hydWDZPJ"
      },
      "execution_count": null,
      "outputs": []
    },
    {
      "cell_type": "markdown",
      "source": [
        "## Visualization & Explanatory Analysis"
      ],
      "metadata": {
        "id": "SCNmtOLp9OKB"
      }
    },
    {
      "cell_type": "code",
      "source": [
        "#DAY\n",
        "plt.figure(figsize=(10, 6))\n",
        "sns.scatterplot(x='weathersit', y='cnt', data=day)\n",
        "plt.xlabel('Kondisi Cuaca (weathersit)')\n",
        "plt.ylabel('Jumlah Peminjaman Sepeda (cnt)')\n",
        "plt.title('Pengaruh Cuaca terhadap Peminjaman Sepeda')\n",
        "plt.show()"
      ],
      "metadata": {
        "id": "R6m35FNWEhTX"
      },
      "execution_count": null,
      "outputs": []
    },
    {
      "cell_type": "code",
      "source": [
        "#HOUR\n",
        "plt.figure(figsize=(10, 6))\n",
        "sns.scatterplot(x='weathersit', y='cnt', data=hour)\n",
        "plt.xlabel('Kondisi Cuaca (weathersit)')\n",
        "plt.ylabel('Jumlah Peminjaman Sepeda (cnt)')\n",
        "plt.title('Pengaruh Cuaca terhadap Peminjaman Sepeda')\n",
        "plt.show()"
      ],
      "metadata": {
        "id": "MyjeIsghFGJ7"
      },
      "execution_count": null,
      "outputs": []
    },
    {
      "cell_type": "code",
      "source": [
        "plt.figure(figsize=(10, 6))\n",
        "sns.histplot(data=day, x='cnt', hue='weathersit', bins=20, kde=True)\n",
        "plt.xlabel('Jumlah Peminjaman Sepeda (cnt)')\n",
        "plt.title('Distribusi Jumlah Peminjaman Sepeda berdasarkan Cuaca')\n",
        "plt.show()"
      ],
      "metadata": {
        "id": "dnpZPBD728b7"
      },
      "execution_count": null,
      "outputs": []
    },
    {
      "cell_type": "code",
      "source": [
        "plt.figure(figsize=(10, 6))\n",
        "sns.histplot(data=hour, x='cnt', hue='weathersit', bins=20, kde=True)\n",
        "plt.xlabel('Jumlah Peminjaman Sepeda (cnt)')\n",
        "plt.title('Distribusi Jumlah Peminjaman Sepeda berdasarkan Cuaca')\n",
        "plt.show()"
      ],
      "metadata": {
        "id": "_7JMzJ65_hqE"
      },
      "execution_count": null,
      "outputs": []
    },
    {
      "cell_type": "markdown",
      "source": [
        "### Explore Pertanyaan 2"
      ],
      "metadata": {
        "id": "MbYi6GOC99kE"
      }
    },
    {
      "cell_type": "code",
      "source": [
        "# Mengelompokkan data berdasarkan jenis hari\n",
        "grouped = day.groupby(['holiday', 'workingday'])['cnt'].mean().reset_index()\n",
        "\n",
        "# Memberi label untuk jenis hari\n",
        "grouped['jenis_hari'] = grouped.apply(lambda row: 'Hari Libur' if row['holiday'] == 1 else ('Hari Kerja' if row['workingday'] == 1 else 'Hari Biasa'), axis=1)\n",
        "\n",
        "# Menampilkan hasil\n",
        "print(grouped[['jenis_hari', 'cnt']])"
      ],
      "metadata": {
        "id": "-bmD-Pqe9_Z4"
      },
      "execution_count": null,
      "outputs": []
    },
    {
      "cell_type": "code",
      "source": [
        "plt.figure(figsize=(10, 6))\n",
        "plt.bar(grouped['jenis_hari'], grouped['cnt'])\n",
        "plt.xlabel('Jenis Hari')\n",
        "plt.ylabel('Rata-rata Peminjaman Sepeda')\n",
        "plt.title('Rata-rata Peminjaman Sepeda berdasarkan Jenis Hari')\n",
        "plt.show()"
      ],
      "metadata": {
        "id": "cQojwUgy-4uZ"
      },
      "execution_count": null,
      "outputs": []
    },
    {
      "cell_type": "code",
      "source": [
        "day['jenis_hari'] = day.apply(lambda row: 'Hari Libur' if row['holiday'] == 1 else ('Hari Kerja' if row['workingday'] == 1 else 'Hari Biasa'), axis=1)\n",
        "\n",
        "# Menampilkan distribusi jumlah peminjaman sepeda berdasarkan jenis hari\n",
        "plt.figure(figsize=(10, 6))\n",
        "sns.histplot(data=day, x='cnt', hue='jenis_hari', bins=20, kde=True)\n",
        "plt.xlabel('Jumlah Peminjaman Sepeda (cnt)')\n",
        "plt.title('Distribusi Jumlah Peminjaman Sepeda berdasarkan Jenis Hari')\n",
        "plt.show()"
      ],
      "metadata": {
        "id": "XqmjytrT_GqV"
      },
      "execution_count": null,
      "outputs": []
    },
    {
      "cell_type": "code",
      "source": [
        "# Mengelompokkan data berdasarkan jenis hari\n",
        "grouped = hour.groupby(['holiday', 'workingday'])['cnt'].mean().reset_index()\n",
        "\n",
        "# Memberi label untuk jenis hari\n",
        "grouped['jenis_hari'] = grouped.apply(lambda row: 'Hari Libur' if row['holiday'] == 1 else ('Hari Kerja' if row['workingday'] == 1 else 'Hari Biasa'), axis=1)\n",
        "\n",
        "# Menampilkan hasil\n",
        "print(grouped[['jenis_hari', 'cnt']])"
      ],
      "metadata": {
        "id": "lk55mgns_09E"
      },
      "execution_count": null,
      "outputs": []
    },
    {
      "cell_type": "code",
      "source": [
        "plt.figure(figsize=(10, 6))\n",
        "plt.bar(grouped['jenis_hari'], grouped['cnt'])\n",
        "plt.xlabel('Jenis Hari')\n",
        "plt.ylabel('Rata-rata Peminjaman Sepeda')\n",
        "plt.title('Rata-rata Peminjaman Sepeda berdasarkan Jenis Hari')\n",
        "plt.show()"
      ],
      "metadata": {
        "id": "9rev_NqB__5L"
      },
      "execution_count": null,
      "outputs": []
    },
    {
      "cell_type": "code",
      "source": [
        "hour['jenis_hari'] = hour.apply(lambda row: 'Hari Libur' if row['holiday'] == 1 else ('Hari Kerja' if row['workingday'] == 1 else 'Hari Biasa'), axis=1)\n",
        "\n",
        "# Menampilkan distribusi jumlah peminjaman sepeda berdasarkan jenis hari\n",
        "plt.figure(figsize=(10, 6))\n",
        "sns.histplot(data=hour, x='cnt', hue='jenis_hari', bins=20, kde=True)\n",
        "plt.xlabel('Jumlah Peminjaman Sepeda (cnt)')\n",
        "plt.title('Distribusi Jumlah Peminjaman Sepeda berdasarkan Jenis Hari')\n",
        "plt.show()"
      ],
      "metadata": {
        "id": "Ku06p7vVAGik"
      },
      "execution_count": null,
      "outputs": []
    },
    {
      "cell_type": "markdown",
      "source": [
        "### Pertanyaan 1: Apakah cuaca mempengaruhi peminjaman sepeda?\n"
      ],
      "metadata": {
        "id": "SG59_Fbj9Qr6"
      }
    },
    {
      "cell_type": "code",
      "source": [
        "# Membuat kamus untuk mengaitkan kode cuaca dengan deskripsi cuaca\n",
        "cuaca_kamus = {\n",
        "    1: \"Clear, Few clouds, Partly cloudy, Partly cloudy\",\n",
        "    2: \"Mist + Cloudy, Mist + Broken clouds, Mist + Few clouds, Mist\",\n",
        "    3: \"Light Snow, Light Rain + Thunderstorm + Scattered clouds, Light Rain + Scattered clouds\",\n",
        "    4: \"Heavy Rain + Ice Pallets + Thunderstorm + Mist, Snow + Fog\"\n",
        "}\n",
        "\n",
        "# Menampilkan kamus cuaca\n",
        "for kode, deskripsi in cuaca_kamus.items():\n",
        "    print(f\"Kode Cuaca {kode}: {deskripsi}\")"
      ],
      "metadata": {
        "id": "dtRoaxqd9PdU"
      },
      "execution_count": null,
      "outputs": []
    },
    {
      "cell_type": "code",
      "source": [
        "#day\n",
        "plt.figure(figsize=(10, 6))\n",
        "sns.histplot(data=day, x='cnt', hue='weathersit', bins=20, kde=True)\n",
        "plt.xlabel('Jumlah Peminjaman Sepeda (cnt)')\n",
        "plt.title('Distribusi Jumlah Peminjaman Sepeda berdasarkan Cuaca')\n",
        "plt.show()"
      ],
      "metadata": {
        "id": "OWqC1Sff8A_4"
      },
      "execution_count": null,
      "outputs": []
    },
    {
      "cell_type": "code",
      "source": [
        "#HOUR\n",
        "plt.figure(figsize=(10, 6))\n",
        "sns.histplot(data=hour, x='cnt', hue='weathersit', bins=20, kde=True)\n",
        "plt.xlabel('Jumlah Peminjaman Sepeda (cnt)')\n",
        "plt.title('Distribusi Jumlah Peminjaman Sepeda berdasarkan Cuaca')\n",
        "plt.show()"
      ],
      "metadata": {
        "id": "6It-gSKy8JHv"
      },
      "execution_count": null,
      "outputs": []
    },
    {
      "cell_type": "markdown",
      "source": [
        "### Pertanyaan 2: Apakah jenis hari (hari libur, hari kerja, dan hari biasa) mempengaruhi peminjaman sepeda?"
      ],
      "metadata": {
        "id": "F2Bo_ypQ9RfH"
      }
    },
    {
      "cell_type": "code",
      "source": [
        "day['jenis_hari'] = day.apply(lambda row: 'Hari Libur' if row['holiday'] == 1 else ('Hari Kerja' if row['workingday'] == 1 else 'Hari Biasa'), axis=1)\n",
        "\n",
        "# Menampilkan distribusi jumlah peminjaman sepeda berdasarkan jenis hari\n",
        "plt.figure(figsize=(10, 6))\n",
        "sns.histplot(data=day, x='cnt', hue='jenis_hari', bins=20, kde=True)\n",
        "plt.xlabel('Jumlah Peminjaman Sepeda (cnt)')\n",
        "plt.title('Distribusi Jumlah Peminjaman Sepeda berdasarkan Jenis Hari')\n",
        "plt.show()"
      ],
      "metadata": {
        "id": "jkO5kTJq9S1Y"
      },
      "execution_count": null,
      "outputs": []
    },
    {
      "cell_type": "code",
      "source": [
        "hour['jenis_hari'] = hour.apply(lambda row: 'Hari Libur' if row['holiday'] == 1 else ('Hari Kerja' if row['workingday'] == 1 else 'Hari Biasa'), axis=1)\n",
        "\n",
        "# Menampilkan distribusi jumlah peminjaman sepeda berdasarkan jenis hari\n",
        "plt.figure(figsize=(10, 6))\n",
        "sns.histplot(data=hour, x='cnt', hue='jenis_hari', bins=20, kde=True)\n",
        "plt.xlabel('Jumlah Peminjaman Sepeda (cnt)')\n",
        "plt.title('Distribusi Jumlah Peminjaman Sepeda berdasarkan Jenis Hari')\n",
        "plt.show()"
      ],
      "metadata": {
        "id": "v4_lYVXJCVv0"
      },
      "execution_count": null,
      "outputs": []
    },
    {
      "cell_type": "markdown",
      "source": [
        "## Conclusion"
      ],
      "metadata": {
        "id": "J2CnXYGT9Tc2"
      }
    },
    {
      "cell_type": "markdown",
      "source": [
        "- Conclution pertanyaan 1:\n",
        "\n",
        "Berdasarkan visualisasi data, cuaca (weathersit) mempengaruhi peminjaman sepeda, dimana saat cuaca 1 sepeda paling banyak dipinjam, diikuti cuaca 2, dan cuaca 3 sedikit, cuaca 4 tidak ada di dataset day, untuk hour sedikit sekali.\n",
        "\n",
        "- conclution pertanyaan 2:\n",
        "Berdasarkan visualisasi data, jenis hari mempengaruhi peminjaman sepeda. Dimana saat hari kerja peminjaman sepeda banyak dilakukan, diikuti dengan hari biasa dan hari libur."
      ],
      "metadata": {
        "id": "f73FBkLw9V8C"
      }
    },
    {
      "cell_type": "code",
      "source": [
        "#Kesimpulan: Berdasarkan visualisasi data, cuaca (weathersit) mempengaruhi peminjaman sepeda, dimana saat cuaca 1 sepeda paling banyak dipinjam, diikuti cuaca 2, dan cuaca 3 sedikit, cuaca 4 tidak ada di dataset day, untuk hour sedikit sekali."
      ],
      "metadata": {
        "id": "b32P72p99VN9"
      },
      "execution_count": null,
      "outputs": []
    },
    {
      "cell_type": "code",
      "source": [
        "#Kesimpulan: Berdasarkan visualisasi data, jenis hari mempengaruhi peminjaman sepeda. Dimana saat hari kerja peminjaman sepeda banyak dilakukan, diikuti dengan hari biasa dan hari libur."
      ],
      "metadata": {
        "id": "GHIvBo4EEjYa"
      },
      "execution_count": null,
      "outputs": []
    }
  ]
}